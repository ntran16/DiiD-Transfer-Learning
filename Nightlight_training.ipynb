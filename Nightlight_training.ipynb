{
 "cells": [
  {
   "cell_type": "code",
   "execution_count": 2,
   "metadata": {
    "collapsed": true
   },
   "outputs": [],
   "source": [
    "import pandas as pd\n",
    "import numpy as np"
   ]
  },
  {
   "cell_type": "code",
   "execution_count": 36,
   "metadata": {
    "collapsed": false
   },
   "outputs": [],
   "source": [
    "countries = ['bangladesh','burundi', 'guatemala', 'haiti', 'nepal', 'rwanda']\n",
    "\n",
    "for country in countries:\n",
    "    df = pd.read_csv('D:/Intensive Data/Final Project/DHS_data/%s_education_wealth.csv' %country)\n",
    "    df2 = df[['HV001', 'wealth_index']]\n",
    "    df2.columns = ['cluster', 'wealth_index']\n",
    "\n",
    "    geo_clusters = pd.read_csv('D:/Intensive Data/Final Project/Nightlight_with_Class/Nightlight_%s_class.csv' %country)\n",
    "    geo_clusters.DHSCLUST = geo_clusters.DHSCLUST.astype(int)\n",
    "    hh_geo_clusters = geo_clusters[['DHSCLUST', 'max_', 'mean_', 'median_', 'min_', 'std_']]\n",
    "\n",
    "    # merge wealth index and coordinates\n",
    "    merged = df2.merge(hh_geo_clusters, left_on='cluster', right_on='DHSCLUST')\n",
    "    merged.drop('cluster',axis=1, inplace=True)\n",
    "\n",
    "    cluster_centers = merged.groupby(['DHSCLUST'], as_index = False).median()\n",
    "    cluster_centers.columns = cluster_centers.columns.str.replace('DHSCLUST','id')\n",
    "    cluster_centers.columns = cluster_centers.columns.str.replace('wealth_index','wealth')\n",
    "\n",
    "    cluster_centers.to_csv('D:/Intensive Data/Final Project/DHS wealth/%s_DHS_wealth.csv' %country, index = False)\n"
   ]
  },
  {
   "cell_type": "code",
   "execution_count": 5,
   "metadata": {
    "collapsed": false
   },
   "outputs": [
    {
     "name": "stdout",
     "output_type": "stream",
     "text": [
      "The mean R2 value of the 10 fold Linear Regression model is 0.736564\n",
      "The prediction score for rwanda is 0.772271\n"
     ]
    }
   ],
   "source": [
    "from sklearn.linear_model import Ridge\n",
    "from sklearn.model_selection import cross_val_score\n",
    "from sklearn.model_selection import GridSearchCV\n",
    "from sklearn.cross_validation import StratifiedKFold\n",
    "from sklearn.cross_validation import KFold\n",
    "from sklearn.linear_model import LogisticRegressionCV\n",
    "from sklearn.cross_validation import StratifiedKFold\n",
    "import pandas as pd\n",
    "import numpy as np\n",
    "\n",
    "\n",
    "#input: path for DHS Night light csv file\n",
    "#output: the mean R2\n",
    "country = 'rwanda'\n",
    "nightlight = 'D:/Intensive Data/Final Project/DHS wealth/%s_DHS_wealth.csv' %country\n",
    "\n",
    "# def night_life_predict(night_life_file):\n",
    "cluster_centers = pd.read_csv(nightlight)\n",
    "features = ['mean_','max_','median_','min_','std_']\n",
    "X = cluster_centers[features]\n",
    "Y = cluster_centers['wealth']\n",
    "fold = KFold(len(Y), n_folds=10, shuffle=True, random_state=0)\n",
    "\n",
    "grid = {'alpha': np.power(10.0, np.arange(-15, 10)), 'solver': ['auto', 'svd', 'cholesky', 'lsqr', 'sparse_cg', 'sag']}\n",
    "night_fit = Ridge()\n",
    "gs = GridSearchCV(night_fit, grid, cv=fold)\n",
    "gs.fit(X,Y)\n",
    "meanR2 = gs.best_score_\n",
    "k = gs.best_params_\n",
    "# return meanR2\n",
    "print(\"The mean R2 value of the 10 fold Linear Regression model is %0.6f\" % (meanR2))\n",
    "\n",
    "clf = Ridge(**k)\n",
    "clf.fit(X,Y)\n",
    "Y_pred = clf.predict(X)\n",
    "\n",
    "# night_life_file = 'DHS_nightlights.csv'\n",
    "# meanR2 = night_life_predict(night_life_file)\n",
    "\n",
    "training_score = clf.score(X,Y)\n",
    "print(\"The prediction score for %s is %0.6f\" %(country, training_score))#\n",
    "# Your code here\n",
    "# 71%"
   ]
  },
  {
   "cell_type": "code",
   "execution_count": 41,
   "metadata": {
    "collapsed": false
   },
   "outputs": [
    {
     "name": "stdout",
     "output_type": "stream",
     "text": [
      "The prediction score using rwanda for rwanda is 0.772271\n"
     ]
    }
   ],
   "source": [
    "# Testing\n",
    "country_pre = 'rwanda'\n",
    "nightlight_pre = 'D:/Intensive Data/Final Project/DHS wealth/%s_DHS_wealth.csv' %country_pre\n",
    "cluster_centers_pre = pd.read_csv(nightlight_pre)\n",
    "features = ['mean_','max_','median_','min_','std_']\n",
    "X_pre = cluster_centers_pre[features]\n",
    "Y_pre = cluster_centers_pre['wealth']\n",
    "prediction_score = clf.score(X_pre,Y_pre)\n",
    "print(\"The prediction score using %s for %s is %0.6f\" %(country, country_pre, prediction_score))\n"
   ]
  },
  {
   "cell_type": "code",
   "execution_count": 43,
   "metadata": {
    "collapsed": false
   },
   "outputs": [
    {
     "ename": "ValueError",
     "evalue": "x and y must be the same size",
     "output_type": "error",
     "traceback": [
      "\u001b[0;31m---------------------------------------------------------------------------\u001b[0m",
      "\u001b[0;31mValueError\u001b[0m                                Traceback (most recent call last)",
      "\u001b[0;32m<ipython-input-43-d59f4a66df12>\u001b[0m in \u001b[0;36m<module>\u001b[0;34m()\u001b[0m\n\u001b[1;32m     32\u001b[0m \u001b[1;33m\u001b[0m\u001b[0m\n\u001b[1;32m     33\u001b[0m     \u001b[1;31m# plot points and fit line\u001b[0m\u001b[1;33m\u001b[0m\u001b[1;33m\u001b[0m\u001b[0m\n\u001b[0;32m---> 34\u001b[0;31m \u001b[0mplot_nightlife\u001b[0m\u001b[1;33m(\u001b[0m\u001b[0mcluster_centers_pre\u001b[0m\u001b[1;33m[\u001b[0m\u001b[1;34m'mean_'\u001b[0m\u001b[1;33m]\u001b[0m\u001b[1;33m,\u001b[0m \u001b[0mY_pre\u001b[0m\u001b[1;33m,\u001b[0m \u001b[0morder\u001b[0m\u001b[1;33m=\u001b[0m\u001b[1;36m1\u001b[0m\u001b[1;33m,\u001b[0m \u001b[0mc\u001b[0m\u001b[1;33m=\u001b[0m\u001b[1;34m'r'\u001b[0m\u001b[1;33m,\u001b[0m \u001b[0malpha\u001b[0m\u001b[1;33m=\u001b[0m\u001b[1;36m1\u001b[0m\u001b[1;33m,\u001b[0m \u001b[0mRval\u001b[0m\u001b[1;33m=\u001b[0m\u001b[1;32mFalse\u001b[0m\u001b[1;33m)\u001b[0m\u001b[1;33m\u001b[0m\u001b[0m\n\u001b[0m\u001b[1;32m     35\u001b[0m \u001b[0mplt\u001b[0m\u001b[1;33m.\u001b[0m\u001b[0mxlabel\u001b[0m\u001b[1;33m(\u001b[0m\u001b[1;34m'Y-pred'\u001b[0m\u001b[1;33m)\u001b[0m\u001b[1;33m\u001b[0m\u001b[0m\n\u001b[1;32m     36\u001b[0m \u001b[0mplt\u001b[0m\u001b[1;33m.\u001b[0m\u001b[0mylabel\u001b[0m\u001b[1;33m(\u001b[0m\u001b[1;34m'Y'\u001b[0m\u001b[1;33m)\u001b[0m\u001b[1;33m\u001b[0m\u001b[0m\n",
      "\u001b[0;32m<ipython-input-43-d59f4a66df12>\u001b[0m in \u001b[0;36mplot_nightlife\u001b[0;34m(xd, yd, order, c, alpha, Rval)\u001b[0m\n\u001b[1;32m     25\u001b[0m     \u001b[0msstot\u001b[0m \u001b[1;33m=\u001b[0m \u001b[0mnp\u001b[0m\u001b[1;33m.\u001b[0m\u001b[0msum\u001b[0m\u001b[1;33m(\u001b[0m\u001b[1;33m(\u001b[0m\u001b[0myd\u001b[0m \u001b[1;33m-\u001b[0m \u001b[0mybar\u001b[0m\u001b[1;33m)\u001b[0m \u001b[1;33m**\u001b[0m \u001b[1;36m2\u001b[0m\u001b[1;33m)\u001b[0m\u001b[1;33m\u001b[0m\u001b[0m\n\u001b[1;32m     26\u001b[0m     \u001b[0mRsqr\u001b[0m \u001b[1;33m=\u001b[0m \u001b[0mssreg\u001b[0m \u001b[1;33m/\u001b[0m \u001b[0msstot\u001b[0m\u001b[1;33m\u001b[0m\u001b[0m\n\u001b[0;32m---> 27\u001b[0;31m     \u001b[0mplt\u001b[0m\u001b[1;33m.\u001b[0m\u001b[0mscatter\u001b[0m\u001b[1;33m(\u001b[0m\u001b[0mX\u001b[0m\u001b[1;33m,\u001b[0m \u001b[0mY\u001b[0m\u001b[1;33m)\u001b[0m\u001b[1;33m\u001b[0m\u001b[0m\n\u001b[0m\u001b[1;32m     28\u001b[0m     \u001b[0mplt\u001b[0m\u001b[1;33m.\u001b[0m\u001b[0mplot\u001b[0m\u001b[1;33m(\u001b[0m\u001b[0mxl\u001b[0m\u001b[1;33m,\u001b[0m \u001b[0myl\u001b[0m\u001b[1;33m)\u001b[0m\u001b[1;33m\u001b[0m\u001b[0m\n\u001b[1;32m     29\u001b[0m     plt.text(0.8 * maxxd + 0.2 * minxd, 0.8 * np.max(yd) + 0.2 * np.min(yd),\n",
      "\u001b[0;32mC:\\Users\\ntran\\Anaconda3\\lib\\site-packages\\matplotlib\\pyplot.py\u001b[0m in \u001b[0;36mscatter\u001b[0;34m(x, y, s, c, marker, cmap, norm, vmin, vmax, alpha, linewidths, verts, edgecolors, hold, data, **kwargs)\u001b[0m\n\u001b[1;32m   3256\u001b[0m                          \u001b[0mvmin\u001b[0m\u001b[1;33m=\u001b[0m\u001b[0mvmin\u001b[0m\u001b[1;33m,\u001b[0m \u001b[0mvmax\u001b[0m\u001b[1;33m=\u001b[0m\u001b[0mvmax\u001b[0m\u001b[1;33m,\u001b[0m \u001b[0malpha\u001b[0m\u001b[1;33m=\u001b[0m\u001b[0malpha\u001b[0m\u001b[1;33m,\u001b[0m\u001b[1;33m\u001b[0m\u001b[0m\n\u001b[1;32m   3257\u001b[0m                          \u001b[0mlinewidths\u001b[0m\u001b[1;33m=\u001b[0m\u001b[0mlinewidths\u001b[0m\u001b[1;33m,\u001b[0m \u001b[0mverts\u001b[0m\u001b[1;33m=\u001b[0m\u001b[0mverts\u001b[0m\u001b[1;33m,\u001b[0m\u001b[1;33m\u001b[0m\u001b[0m\n\u001b[0;32m-> 3258\u001b[0;31m                          edgecolors=edgecolors, data=data, **kwargs)\n\u001b[0m\u001b[1;32m   3259\u001b[0m     \u001b[1;32mfinally\u001b[0m\u001b[1;33m:\u001b[0m\u001b[1;33m\u001b[0m\u001b[0m\n\u001b[1;32m   3260\u001b[0m         \u001b[0max\u001b[0m\u001b[1;33m.\u001b[0m\u001b[0mhold\u001b[0m\u001b[1;33m(\u001b[0m\u001b[0mwashold\u001b[0m\u001b[1;33m)\u001b[0m\u001b[1;33m\u001b[0m\u001b[0m\n",
      "\u001b[0;32mC:\\Users\\ntran\\Anaconda3\\lib\\site-packages\\matplotlib\\__init__.py\u001b[0m in \u001b[0;36minner\u001b[0;34m(ax, *args, **kwargs)\u001b[0m\n\u001b[1;32m   1816\u001b[0m                     warnings.warn(msg % (label_namer, func.__name__),\n\u001b[1;32m   1817\u001b[0m                                   RuntimeWarning, stacklevel=2)\n\u001b[0;32m-> 1818\u001b[0;31m             \u001b[1;32mreturn\u001b[0m \u001b[0mfunc\u001b[0m\u001b[1;33m(\u001b[0m\u001b[0max\u001b[0m\u001b[1;33m,\u001b[0m \u001b[1;33m*\u001b[0m\u001b[0margs\u001b[0m\u001b[1;33m,\u001b[0m \u001b[1;33m**\u001b[0m\u001b[0mkwargs\u001b[0m\u001b[1;33m)\u001b[0m\u001b[1;33m\u001b[0m\u001b[0m\n\u001b[0m\u001b[1;32m   1819\u001b[0m         \u001b[0mpre_doc\u001b[0m \u001b[1;33m=\u001b[0m \u001b[0minner\u001b[0m\u001b[1;33m.\u001b[0m\u001b[0m__doc__\u001b[0m\u001b[1;33m\u001b[0m\u001b[0m\n\u001b[1;32m   1820\u001b[0m         \u001b[1;32mif\u001b[0m \u001b[0mpre_doc\u001b[0m \u001b[1;32mis\u001b[0m \u001b[1;32mNone\u001b[0m\u001b[1;33m:\u001b[0m\u001b[1;33m\u001b[0m\u001b[0m\n",
      "\u001b[0;32mC:\\Users\\ntran\\Anaconda3\\lib\\site-packages\\matplotlib\\axes\\_axes.py\u001b[0m in \u001b[0;36mscatter\u001b[0;34m(self, x, y, s, c, marker, cmap, norm, vmin, vmax, alpha, linewidths, verts, edgecolors, **kwargs)\u001b[0m\n\u001b[1;32m   3808\u001b[0m         \u001b[0my\u001b[0m \u001b[1;33m=\u001b[0m \u001b[0mnp\u001b[0m\u001b[1;33m.\u001b[0m\u001b[0mma\u001b[0m\u001b[1;33m.\u001b[0m\u001b[0mravel\u001b[0m\u001b[1;33m(\u001b[0m\u001b[0my\u001b[0m\u001b[1;33m)\u001b[0m\u001b[1;33m\u001b[0m\u001b[0m\n\u001b[1;32m   3809\u001b[0m         \u001b[1;32mif\u001b[0m \u001b[0mx\u001b[0m\u001b[1;33m.\u001b[0m\u001b[0msize\u001b[0m \u001b[1;33m!=\u001b[0m \u001b[0my\u001b[0m\u001b[1;33m.\u001b[0m\u001b[0msize\u001b[0m\u001b[1;33m:\u001b[0m\u001b[1;33m\u001b[0m\u001b[0m\n\u001b[0;32m-> 3810\u001b[0;31m             \u001b[1;32mraise\u001b[0m \u001b[0mValueError\u001b[0m\u001b[1;33m(\u001b[0m\u001b[1;34m\"x and y must be the same size\"\u001b[0m\u001b[1;33m)\u001b[0m\u001b[1;33m\u001b[0m\u001b[0m\n\u001b[0m\u001b[1;32m   3811\u001b[0m \u001b[1;33m\u001b[0m\u001b[0m\n\u001b[1;32m   3812\u001b[0m         \u001b[0ms\u001b[0m \u001b[1;33m=\u001b[0m \u001b[0mnp\u001b[0m\u001b[1;33m.\u001b[0m\u001b[0mma\u001b[0m\u001b[1;33m.\u001b[0m\u001b[0mravel\u001b[0m\u001b[1;33m(\u001b[0m\u001b[0ms\u001b[0m\u001b[1;33m)\u001b[0m  \u001b[1;31m# This doesn't have to match x, y in size.\u001b[0m\u001b[1;33m\u001b[0m\u001b[0m\n",
      "\u001b[0;31mValueError\u001b[0m: x and y must be the same size"
     ]
    },
    {
     "data": {
      "image/png": "[encoded data removed]",
      "text/plain": [
       "<matplotlib.figure.Figure at 0x215193dbb38>"
      ]
     },
     "metadata": {},
     "output_type": "display_data"
    }
   ],
   "source": [
    "import matplotlib as mpl\n",
    "import matplotlib.pyplot as plt\n",
    "from matplotlib import gridspec\n",
    "%matplotlib inline\n",
    "\n",
    "def plot_nightlife(xd, yd, order=1, c='r', alpha=1, Rval=False):\n",
    "    #Calculate best fit\n",
    "    coeffs = np.polyfit(xd, yd, order)\n",
    "\n",
    "    intercept = coeffs[-1]\n",
    "    slope = coeffs[-2]\n",
    "    power = coeffs[0] if order == 2 else 0\n",
    "\n",
    "    minxd = np.min(xd)\n",
    "    maxxd = np.max(xd)\n",
    "\n",
    "    xl = np.array([minxd, maxxd])\n",
    "    yl = power * xl ** 2 + slope * xl + intercept\n",
    "\n",
    "    #Calculate R Squared\n",
    "    p = np.poly1d(coeffs)\n",
    "\n",
    "    ybar = np.sum(yd) / len(yd)\n",
    "    ssreg = np.sum((p(xd) - ybar) ** 2)\n",
    "    sstot = np.sum((yd - ybar) ** 2)\n",
    "    Rsqr = ssreg / sstot\n",
    "    plt.scatter(X, Y)\n",
    "    plt.plot(xl, yl)\n",
    "    plt.text(0.8 * maxxd + 0.2 * minxd, 0.8 * np.max(yd) + 0.2 * np.min(yd),\n",
    "                 '$R^2 = %0.3f$' % Rsqr)\n",
    "    return print('R2 value is %.6f' % (Rsqr))\n",
    "\n",
    "    # plot points and fit line\n",
    "plot_nightlife(X_pre, Y_pre, order=1, c='r', alpha=1, Rval=False)\n",
    "plt.xlabel('Y-pred')\n",
    "plt.ylabel('Y')\n",
    "plt.title('Histogram of IQ')\n"
   ]
  },
  {
   "cell_type": "code",
   "execution_count": 39,
   "metadata": {
    "collapsed": false
   },
   "outputs": [
    {
     "data": {
      "text/plain": [
       "0     -0.531405\n",
       "1     -0.409830\n",
       "2     -0.478115\n",
       "3     -0.435960\n",
       "4     -0.449480\n",
       "5     -0.112650\n",
       "6     -0.399620\n",
       "7     -0.195580\n",
       "8      2.395540\n",
       "9      0.056460\n",
       "10    -0.233975\n",
       "11    -0.458450\n",
       "12    -0.643445\n",
       "13    -0.501530\n",
       "14    -0.490690\n",
       "15    -0.548980\n",
       "16    -0.412520\n",
       "17    -0.419030\n",
       "18    -0.380060\n",
       "19    -0.460620\n",
       "20    -0.266005\n",
       "21    -0.275315\n",
       "22     3.141260\n",
       "23    -0.412800\n",
       "24    -0.393720\n",
       "25     0.087560\n",
       "26    -0.539430\n",
       "27    -0.493570\n",
       "28     2.215415\n",
       "29    -0.385275\n",
       "         ...   \n",
       "462   -0.409750\n",
       "463   -0.316415\n",
       "464   -0.505760\n",
       "465   -0.100280\n",
       "466    0.123710\n",
       "467   -0.572355\n",
       "468   -0.426670\n",
       "469   -0.452280\n",
       "470   -0.602765\n",
       "471   -0.078720\n",
       "472   -0.180235\n",
       "473   -0.519535\n",
       "474   -0.413445\n",
       "475   -0.444630\n",
       "476   -0.040910\n",
       "477   -0.396640\n",
       "478   -0.649635\n",
       "479   -0.410960\n",
       "480    2.432185\n",
       "481   -0.257380\n",
       "482   -0.369555\n",
       "483   -0.565495\n",
       "484   -0.297230\n",
       "485   -0.144470\n",
       "486   -0.387670\n",
       "487   -0.524310\n",
       "488   -0.388025\n",
       "489    0.328090\n",
       "490   -0.278550\n",
       "491   -0.310160\n",
       "Name: wealth, dtype: float64"
      ]
     },
     "execution_count": 39,
     "metadata": {},
     "output_type": "execute_result"
    }
   ],
   "source": [
    "Y = pd.DataFrame(Y_pred)\n",
    "A = [[Y_pre,Y]]\n"
   ]
  }
 ],
 "metadata": {
  "anaconda-cloud": {},
  "kernelspec": {
   "display_name": "Python [conda root]",
   "language": "python",
   "name": "conda-root-py"
  },
  "language_info": {
   "codemirror_mode": {
    "name": "ipython",
    "version": 3
   },
   "file_extension": ".py",
   "mimetype": "text/x-python",
   "name": "python",
   "nbconvert_exporter": "python",
   "pygments_lexer": "ipython3",
   "version": "3.5.2"
  }
 },
 "nbformat": 4,
 "nbformat_minor": 1
}
