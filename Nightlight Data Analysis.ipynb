{
 "cells": [
  {
   "cell_type": "code",
   "execution_count": 2,
   "metadata": {
    "collapsed": false
   },
   "outputs": [],
   "source": [
    "import ipystata  \n",
    "import pandas as pd\n",
    "import savReaderWriter as s\n",
    "import numpy as np\n",
    "import time\n",
    "import os\n",
    "import os.path\n",
    "from osgeo import gdal, ogr, osr\n",
    "from scipy import ndimage\n",
    "from scipy import misc\n",
    "from io import StringIO\n",
    "#import cStringIO\n",
    "gdal.UseExceptions()\n",
    "import matplotlib as mpl\n",
    "import matplotlib.pyplot as plt\n",
    "from matplotlib import gridspec\n",
    "%matplotlib inline\n",
    "import urllib\n",
    "import seaborn as sns\n"
   ]
  },
  {
   "cell_type": "code",
   "execution_count": 4,
   "metadata": {
    "collapsed": false
   },
   "outputs": [],
   "source": [
    "# rwanda = pd.read_csv('D:/Intensive Data/Final Project/DHS Nightlight/DHS_nightlights_Rwanda.csv')\n",
    "# nepal = pd.read_csv('D:/Intensive Data/Final Project/DHS Nightlight/DHS_nightlights_Nepal.csv')\n",
    "# guatemala2012 = pd.read_csv('D:/Intensive Data/Final Project/DHS Nightlight/DHS_nightlights_Guatemala2012.csv')\n",
    "# guatemala2013 = pd.read_csv('D:/Intensive Data/Final Project/DHS Nightlight/DHS_nightlights_Guatemala2013.csv')\n",
    "# haiti = pd.read_csv('D:/Intensive Data/Final Project/DHS Nightlight/DHS_nightlights_Haiti.csv')\n",
    "bangladesh = pd.read_csv('D:/Intensive Data/Final Project/Nightlight_with_Class/z.csv')\n"
   ]
  },
  {
   "cell_type": "code",
   "execution_count": 6,
   "metadata": {
    "collapsed": false
   },
   "outputs": [
    {
     "data": {
      "text/plain": [
       "(600, 9)"
      ]
     },
     "execution_count": 6,
     "metadata": {},
     "output_type": "execute_result"
    }
   ],
   "source": [
    "import seaborn as sns\n",
    "sns.set(color_codes=True)\n",
    "np.random.seed(sum(map(ord, \"distributions\")))\n",
    "bangladesh.shape"
   ]
  },
  {
   "cell_type": "code",
   "execution_count": 7,
   "metadata": {
    "collapsed": false
   },
   "outputs": [
    {
     "data": {
      "text/plain": [
       "[<matplotlib.text.Text at 0x15e65b15630>]"
      ]
     },
     "execution_count": 7,
     "metadata": {},
     "output_type": "execute_result"
    },
    {
     "data": {
      "image/png": "[encoded data removed]",
      "text/plain": [
       "<matplotlib.figure.Figure at 0x15e65a59ba8>"
      ]
     },
     "metadata": {},
     "output_type": "display_data"
    }
   ],
   "source": [
    "fig, axs = plt.subplots(ncols=3, sharey=True)\n",
    "guatemala_plot1 = sns.distplot(bangladesh['max_'],kde=False, ax=axs[0]);\n",
    "guatemala_plot1.set(xlabel='max_pixels', ylabel='Haiti_clusters')\n",
    "guatemala_plot2 = sns.distplot(bangladesh['mean_'],kde=False, ax=axs[1]);\n",
    "guatemala_plot2.set(xlabel='mean_pixels')\n",
    "guatemala_plot3 = sns.distplot(bangladesh['median_'],kde=False, ax=axs[2]);\n",
    "guatemala_plot3.set(xlabel='median_pixels')\n"
   ]
  },
  {
   "cell_type": "code",
   "execution_count": 80,
   "metadata": {
    "collapsed": false
   },
   "outputs": [
    {
     "data": {
      "text/plain": [
       "(57.291016788604935,\n",
       " 1.0,\n",
       " 857,\n",
       " array([[ 61.88053625,  62.48818479,  62.11463036, ...,   3.06314631,\n",
       "           2.51526648,   3.51141163],\n",
       "        [ 62.35946375,  62.97181521,  62.59536964, ...,   3.08685369,\n",
       "           2.53473352,   3.53858837]]))"
      ]
     },
     "execution_count": 80,
     "metadata": {},
     "output_type": "execute_result"
    }
   ],
   "source": [
    "from scipy.stats import chi2_contingency\n",
    "obs = np.array([guatemala2012['mean_'], guatemala2013['mean_']])\n",
    "obs[obs == 0] = .1\n",
    "chi2_contingency(obs)\n"
   ]
  },
  {
   "cell_type": "code",
   "execution_count": 69,
   "metadata": {
    "collapsed": false
   },
   "outputs": [
    {
     "data": {
      "text/plain": [
       "(31.660241674034779,\n",
       " 6.1713851125683048e-07,\n",
       " 3,\n",
       " array([[ 138.82978723,   98.72340426,   46.27659574,    6.17021277],\n",
       "        [ 311.17021277,  221.27659574,  103.72340426,   13.82978723]]))"
      ]
     },
     "execution_count": 69,
     "metadata": {},
     "output_type": "execute_result"
    }
   ],
   "source": [
    "men_women = np.array([[100, 120, 60,10],[350, 200, 90,10]])\n",
    "chi2_contingency(men_women)\n",
    "# k = np.array([[100,120,50,10],[350,200,90,10]])\n",
    "# k\n"
   ]
  },
  {
   "cell_type": "code",
   "execution_count": null,
   "metadata": {
    "collapsed": true
   },
   "outputs": [],
   "source": []
  }
 ],
 "metadata": {
  "anaconda-cloud": {},
  "kernelspec": {
   "display_name": "Python [conda root]",
   "language": "python",
   "name": "conda-root-py"
  },
  "language_info": {
   "codemirror_mode": {
    "name": "ipython",
    "version": 3
   },
   "file_extension": ".py",
   "mimetype": "text/x-python",
   "name": "python",
   "nbconvert_exporter": "python",
   "pygments_lexer": "ipython3",
   "version": "3.5.2"
  }
 },
 "nbformat": 4,
 "nbformat_minor": 1
}
